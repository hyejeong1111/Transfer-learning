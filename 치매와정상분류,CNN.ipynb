{
  "nbformat": 4,
  "nbformat_minor": 0,
  "metadata": {
    "colab": {
      "provenance": [],
      "include_colab_link": true
    },
    "kernelspec": {
      "name": "python3",
      "display_name": "Python 3"
    },
    "language_info": {
      "name": "python"
    },
    "accelerator": "GPU",
    "gpuClass": "standard"
  },
  "cells": [
    {
      "cell_type": "markdown",
      "metadata": {
        "id": "view-in-github",
        "colab_type": "text"
      },
      "source": [
        "<a href=\"https://colab.research.google.com/github/hyejeong1111/Transfer-learning/blob/main/%EC%B9%98%EB%A7%A4%EC%99%80%EC%A0%95%EC%83%81%EB%B6%84%EB%A5%98%2CCNN.ipynb\" target=\"_parent\"><img src=\"https://colab.research.google.com/assets/colab-badge.svg\" alt=\"Open In Colab\"/></a>"
      ]
    },
    {
      "cell_type": "markdown",
      "source": [
        "# 목표"
      ],
      "metadata": {
        "id": "PYHcBrVxS4hw"
      }
    },
    {
      "cell_type": "markdown",
      "source": [
        "- 전이학습 스타일로 모델을 생성 및 학습, 파인튜닝 진행\n",
        "  - 각 절차별 방법 이해\n",
        "  - 파인튜닝 모형\n",
        "    - 기존 모델(학습 x) + 내가 만든 모델 (학습 o)\n",
        "  - 데이터\n",
        "    - 의학 데이터 (치매/정상 CT 뇌촬영이미지)\n",
        "    - 의료분야 데이터라서 소량으로 제공\n",
        "  - 결론\n",
        "    - 특정 뇌 촬영 이미지를 제시 => 치매 혹은 정상 분류(이진분류)"
      ],
      "metadata": {
        "id": "ATt2hNzETqKe"
      }
    },
    {
      "cell_type": "code",
      "source": [
        "from google.colab import drive\n",
        "drive.mount('/content/drive')"
      ],
      "metadata": {
        "colab": {
          "base_uri": "https://localhost:8080/"
        },
        "id": "adh6npTKUMmt",
        "outputId": "42e62f9f-b24f-4979-b708-663e646e5760"
      },
      "execution_count": 93,
      "outputs": [
        {
          "output_type": "stream",
          "name": "stdout",
          "text": [
            "Drive already mounted at /content/drive; to attempt to forcibly remount, call drive.mount(\"/content/drive\", force_remount=True).\n"
          ]
        }
      ]
    },
    {
      "cell_type": "markdown",
      "source": [
        "##필요모듈 가져오기"
      ],
      "metadata": {
        "id": "KP7FcLBSUbtz"
      }
    },
    {
      "cell_type": "code",
      "execution_count": 94,
      "metadata": {
        "id": "NQxNF5VTSyOR"
      },
      "outputs": [],
      "source": [
        "'''\n",
        "ImageDataGenerator : 이미지 데이터 증폭, 변조등을 수행하여 그 양을 늘릴수 있다\n",
        "- 단, 본 데이터는 의료용 데이터라서 => 변조 불가\n",
        "'''\n",
        "from tensorflow.keras.preprocessing.image import ImageDataGenerator\n",
        "from tensorflow.keras import Input, models, layers, optimizers, metrics\n",
        "from tensorflow.keras.layers import Dense, Flatten, Activation, Dropout\n",
        "from tensorflow.keras.applications import VGG16 # 전이학습 실습을 위한 사전 학습된 모델\n",
        "from keras.callbacks import EarlyStopping\n",
        "import numpy as np\n",
        "import matplotlib.pyplot as plt\n"
      ]
    },
    {
      "cell_type": "markdown",
      "source": [
        "## 데이터 공급자"
      ],
      "metadata": {
        "id": "we7fXcmOV3YP"
      }
    },
    {
      "cell_type": "code",
      "source": [
        "# 데이터가 적어서 진행(소량의 변화만 부여), 목적과 데이터량에 따라서는 미적용 가능\n",
        "train_datagen = ImageDataGenerator(rescale=1./255,       # 주어진 이미지의 크기를 설정한다\n",
        "                                   horizontal_flip=True, # 수평대칭이미지를 50% 확률로 생성\n",
        "                                   width_shift_range=0.1,  # 전체 크기의 15% 범위에서 좌우로 이동\n",
        "                                   height_shift_range=0.1, # 전체 크기의 15% 범위에서 상하로 이동\n",
        "                                   #rotation_range=5,       # 주어진 각도로 회전\n",
        "                                   #shear_range=0.7,     # 좌표하나를 고정하고 나머지를 이동\n",
        "                                   #vertical_flip=True,  # 수직대치이미지,..\n",
        "                                   #fill_mode='nearest'  # 비공간을 어떻게 채울것인가=\n",
        "                                   )\n",
        "train_generator = train_datagen.flow_from_directory(\"/content/drive/MyDrive/최혜정/train\",\n",
        "                                                     target_size = (150, 150),\n",
        "                                                     batch_size  = 5,\n",
        "                                                    class_mode ='binary')"
      ],
      "metadata": {
        "id": "F-Wdukg9WIMr",
        "colab": {
          "base_uri": "https://localhost:8080/"
        },
        "outputId": "5aa90f22-e284-46ac-c596-940ae978640b"
      },
      "execution_count": 95,
      "outputs": [
        {
          "output_type": "stream",
          "name": "stdout",
          "text": [
            "Found 160 images belonging to 2 classes.\n"
          ]
        }
      ]
    },
    {
      "cell_type": "code",
      "source": [
        "# 테스트 공급자는 리스케일링만 적용\n",
        "test_datagen  = ImageDataGenerator(rescale=1./255,\n",
        "                                   horizontal_flip=True, # 수평대칭이미지를 50% 확률로 생성\n",
        "                                   width_shift_range=0.1,  # 전체 크기의 15% 범위에서 좌우로 이동\n",
        "                                   height_shift_range=0.1, # 전체 크기의 15% 범위에서 상하로 이동\n",
        "                                   rotation_range=5,       # 주어진 각도로 회전\n",
        "                                   shear_range=0.7,     # 좌표하나를 고정하고 나머지를 이동\n",
        "                                   vertical_flip=True,  # 수직대치이미지,..\n",
        "                                   fill_mode='nearest'  # 비공간을 어떻게 채울것인가=\n",
        "                                   )\n",
        "test_generator = test_datagen.flow_from_directory(\n",
        "  \"/content/drive/MyDrive/최혜정/test\",\n",
        "  target_size = (150, 150),\n",
        "  batch_size  = 5,       # 이미지는 5장씩 공급\n",
        "  class_mode  = 'binary' # 정상/치매\n",
        ")"
      ],
      "metadata": {
        "id": "7vXu2xqcXs3G",
        "colab": {
          "base_uri": "https://localhost:8080/"
        },
        "outputId": "30c01185-c7e1-4edd-b25b-38103b487247"
      },
      "execution_count": 96,
      "outputs": [
        {
          "output_type": "stream",
          "name": "stdout",
          "text": [
            "Found 120 images belonging to 2 classes.\n"
          ]
        }
      ]
    },
    {
      "cell_type": "markdown",
      "source": [
        "# 인공신경망 구축"
      ],
      "metadata": {
        "id": "G7TlpVFwYxdV"
      }
    },
    {
      "cell_type": "markdown",
      "source": [
        "## 사전 학습된 모델 획득\n"
      ],
      "metadata": {
        "id": "QCXcaaDBY4Cq"
      }
    },
    {
      "cell_type": "code",
      "source": [
        "'''\n",
        "include_top=True : 불러온 신경망의 가장 마지막층(분류하는 층) 가져올것인가?\n",
        "\n",
        "'''\n",
        "\n",
        "transfer_model = VGG16(weights='imagenet',include_top=False, input_shape=(150,150,3))\n"
      ],
      "metadata": {
        "id": "1cRZv7mqZBYf"
      },
      "execution_count": 97,
      "outputs": []
    },
    {
      "cell_type": "code",
      "source": [
        "# 사전 학습된 모델은 새로 학습하지 않는다 => 이미 학습된 훌륭한 분류 성능을 계승\n",
        "transfer_model.trainable = False # 기존의 가중치는 유지\n",
        "transfer_model.summary()"
      ],
      "metadata": {
        "id": "YOJRq1u1aI97",
        "colab": {
          "base_uri": "https://localhost:8080/"
        },
        "outputId": "7780d21b-68b1-4e1b-bf34-13cc3eda6044"
      },
      "execution_count": 98,
      "outputs": [
        {
          "output_type": "stream",
          "name": "stdout",
          "text": [
            "Model: \"vgg16\"\n",
            "_________________________________________________________________\n",
            " Layer (type)                Output Shape              Param #   \n",
            "=================================================================\n",
            " input_7 (InputLayer)        [(None, 150, 150, 3)]     0         \n",
            "                                                                 \n",
            " block1_conv1 (Conv2D)       (None, 150, 150, 64)      1792      \n",
            "                                                                 \n",
            " block1_conv2 (Conv2D)       (None, 150, 150, 64)      36928     \n",
            "                                                                 \n",
            " block1_pool (MaxPooling2D)  (None, 75, 75, 64)        0         \n",
            "                                                                 \n",
            " block2_conv1 (Conv2D)       (None, 75, 75, 128)       73856     \n",
            "                                                                 \n",
            " block2_conv2 (Conv2D)       (None, 75, 75, 128)       147584    \n",
            "                                                                 \n",
            " block2_pool (MaxPooling2D)  (None, 37, 37, 128)       0         \n",
            "                                                                 \n",
            " block3_conv1 (Conv2D)       (None, 37, 37, 256)       295168    \n",
            "                                                                 \n",
            " block3_conv2 (Conv2D)       (None, 37, 37, 256)       590080    \n",
            "                                                                 \n",
            " block3_conv3 (Conv2D)       (None, 37, 37, 256)       590080    \n",
            "                                                                 \n",
            " block3_pool (MaxPooling2D)  (None, 18, 18, 256)       0         \n",
            "                                                                 \n",
            " block4_conv1 (Conv2D)       (None, 18, 18, 512)       1180160   \n",
            "                                                                 \n",
            " block4_conv2 (Conv2D)       (None, 18, 18, 512)       2359808   \n",
            "                                                                 \n",
            " block4_conv3 (Conv2D)       (None, 18, 18, 512)       2359808   \n",
            "                                                                 \n",
            " block4_pool (MaxPooling2D)  (None, 9, 9, 512)         0         \n",
            "                                                                 \n",
            " block5_conv1 (Conv2D)       (None, 9, 9, 512)         2359808   \n",
            "                                                                 \n",
            " block5_conv2 (Conv2D)       (None, 9, 9, 512)         2359808   \n",
            "                                                                 \n",
            " block5_conv3 (Conv2D)       (None, 9, 9, 512)         2359808   \n",
            "                                                                 \n",
            " block5_pool (MaxPooling2D)  (None, 4, 4, 512)         0         \n",
            "                                                                 \n",
            "=================================================================\n",
            "Total params: 14,714,688\n",
            "Trainable params: 0\n",
            "Non-trainable params: 14,714,688\n",
            "_________________________________________________________________\n"
          ]
        }
      ]
    },
    {
      "cell_type": "markdown",
      "source": [
        "## 내가 만든 모델 생성 및 연결"
      ],
      "metadata": {
        "id": "lJsEy66iY60Z"
      }
    },
    {
      "cell_type": "code",
      "source": [
        "finetuning_model = models.Sequential()\n",
        "\n",
        "# (None, 4, 4, 512)\n",
        "finetuning_model.add( transfer_model )  # 사전 학습된 모델을 새로 만든 모델에 연결\n",
        "# (None, 4 * 4 * 512) == (None, 8192)\n",
        "finetuning_model.add( Flatten() )\n",
        "# (None, 64)\n",
        "finetuning_model.add( Dense( 64 ) )\n",
        "# (None, 64)\n",
        "finetuning_model.add( Activation('relu') )\n",
        "# (None, 64)\n",
        "finetuning_model.add( Dropout(0.5) )\n",
        "# (None, 1)\n",
        "finetuning_model.add( Dense( 1 ) )\n",
        "# (None, 1)\n",
        "finetuning_model.add( Activation('sigmoid') )\n",
        "\n",
        "# 요약\n",
        "finetuning_model.summary()\n",
        "# Trainable params: 524,417 개의 파라미터만 최적화하면 학습 종료!!"
      ],
      "metadata": {
        "colab": {
          "base_uri": "https://localhost:8080/"
        },
        "id": "v_sdoEFWel7m",
        "outputId": "534baf0f-b7df-4a9a-df1d-1fd8d068a6ae"
      },
      "execution_count": 99,
      "outputs": [
        {
          "output_type": "stream",
          "name": "stdout",
          "text": [
            "Model: \"sequential_10\"\n",
            "_________________________________________________________________\n",
            " Layer (type)                Output Shape              Param #   \n",
            "=================================================================\n",
            " vgg16 (Functional)          (None, 4, 4, 512)         14714688  \n",
            "                                                                 \n",
            " flatten_9 (Flatten)         (None, 8192)              0         \n",
            "                                                                 \n",
            " dense_18 (Dense)            (None, 64)                524352    \n",
            "                                                                 \n",
            " activation_18 (Activation)  (None, 64)                0         \n",
            "                                                                 \n",
            " dropout_9 (Dropout)         (None, 64)                0         \n",
            "                                                                 \n",
            " dense_19 (Dense)            (None, 1)                 65        \n",
            "                                                                 \n",
            " activation_19 (Activation)  (None, 1)                 0         \n",
            "                                                                 \n",
            "=================================================================\n",
            "Total params: 15,239,105\n",
            "Trainable params: 524,417\n",
            "Non-trainable params: 14,714,688\n",
            "_________________________________________________________________\n"
          ]
        }
      ]
    },
    {
      "cell_type": "markdown",
      "source": [
        "## 컴파일 및 학습"
      ],
      "metadata": {
        "id": "2nRPIYRcf4od"
      }
    },
    {
      "cell_type": "code",
      "source": [
        "finetuning_model.compile( loss='binary_crossentropy',\n",
        "                         optimizer=optimizers.Adam(learning_rate=0.0002), metrics=['accuracy'] )"
      ],
      "metadata": {
        "id": "Zl0p5G9yYWuA"
      },
      "execution_count": 100,
      "outputs": []
    },
    {
      "cell_type": "code",
      "source": [
        "# 조기 학습 종료\n",
        "early_stoppping_callback = EarlyStopping(patience=5)"
      ],
      "metadata": {
        "id": "pNdp1KUYf8Jy"
      },
      "execution_count": 101,
      "outputs": []
    },
    {
      "cell_type": "code",
      "source": [
        "# 학습\n",
        "import tensorflow as tf\n",
        "from tensorflow.python.client import device_lib\n",
        "device_lib.list_local_devices()"
      ],
      "metadata": {
        "colab": {
          "base_uri": "https://localhost:8080/"
        },
        "id": "RvhvlBi3g6d2",
        "outputId": "8c0071b3-4a3f-4da1-dbe6-ed5db6dd00db"
      },
      "execution_count": 102,
      "outputs": [
        {
          "output_type": "execute_result",
          "data": {
            "text/plain": [
              "[name: \"/device:CPU:0\"\n",
              " device_type: \"CPU\"\n",
              " memory_limit: 268435456\n",
              " locality {\n",
              " }\n",
              " incarnation: 9800272334320626287\n",
              " xla_global_id: -1,\n",
              " name: \"/device:GPU:0\"\n",
              " device_type: \"GPU\"\n",
              " memory_limit: 14328594432\n",
              " locality {\n",
              "   bus_id: 1\n",
              "   links {\n",
              "   }\n",
              " }\n",
              " incarnation: 11598369613458731988\n",
              " physical_device_desc: \"device: 0, name: Tesla T4, pci bus id: 0000:00:04.0, compute capability: 7.5\"\n",
              " xla_global_id: 416903419]"
            ]
          },
          "metadata": {},
          "execution_count": 102
        }
      ]
    },
    {
      "cell_type": "code",
      "source": [
        "with tf.device('/device:GPU:0'):\n",
        "  # 데이터 공급자를 통해서 X,y를 다 제공\n",
        "  # 검증용 공급자가 없어서 테스트용 공급자 활용 제공\n",
        "  his = finetuning_model.fit(\n",
        "      train_generator,\n",
        "      epochs=20,\n",
        "      validation_data=test_generator,\n",
        "      validation_steps=10,\n",
        "      callbacks=[early_stoppping_callback]\n",
        "  )"
      ],
      "metadata": {
        "colab": {
          "base_uri": "https://localhost:8080/"
        },
        "id": "LoEaPIPsqhRF",
        "outputId": "6f6948b0-4b66-44a0-ed46-0c2d8a413967"
      },
      "execution_count": 103,
      "outputs": [
        {
          "output_type": "stream",
          "name": "stdout",
          "text": [
            "Epoch 1/20\n",
            "32/32 [==============================] - ETA: 0s - loss: 0.7729 - accuracy: 0.5500"
          ]
        },
        {
          "output_type": "stream",
          "name": "stderr",
          "text": [
            "WARNING:tensorflow:AutoGraph could not transform <function Model.make_test_function.<locals>.test_function at 0x7ea79902f370> and will run it as-is.\n",
            "Cause: Unable to locate the source code of <function Model.make_test_function.<locals>.test_function at 0x7ea79902f370>. Note that functions defined in certain environments, like the interactive Python shell, do not expose their source code. If that is the case, you should define them in a .py source file. If you are certain the code is graph-compatible, wrap the call using @tf.autograph.experimental.do_not_convert. Original error: could not get source code\n",
            "To silence this warning, decorate the function with @tf.autograph.experimental.do_not_convert\n"
          ]
        },
        {
          "output_type": "stream",
          "name": "stdout",
          "text": [
            "WARNING: AutoGraph could not transform <function Model.make_test_function.<locals>.test_function at 0x7ea79902f370> and will run it as-is.\n",
            "Cause: Unable to locate the source code of <function Model.make_test_function.<locals>.test_function at 0x7ea79902f370>. Note that functions defined in certain environments, like the interactive Python shell, do not expose their source code. If that is the case, you should define them in a .py source file. If you are certain the code is graph-compatible, wrap the call using @tf.autograph.experimental.do_not_convert. Original error: could not get source code\n",
            "To silence this warning, decorate the function with @tf.autograph.experimental.do_not_convert\n",
            "32/32 [==============================] - 240s 2s/step - loss: 0.7729 - accuracy: 0.5500 - val_loss: 0.6235 - val_accuracy: 0.5200\n",
            "Epoch 2/20\n",
            "32/32 [==============================] - 22s 707ms/step - loss: 0.6131 - accuracy: 0.6875 - val_loss: 0.5622 - val_accuracy: 0.7200\n",
            "Epoch 3/20\n",
            "32/32 [==============================] - 15s 484ms/step - loss: 0.4999 - accuracy: 0.7875 - val_loss: 0.4296 - val_accuracy: 0.8800\n",
            "Epoch 4/20\n",
            "32/32 [==============================] - 8s 248ms/step - loss: 0.4284 - accuracy: 0.8250 - val_loss: 0.3941 - val_accuracy: 0.8400\n",
            "Epoch 5/20\n",
            "32/32 [==============================] - 6s 201ms/step - loss: 0.3664 - accuracy: 0.8750 - val_loss: 0.3617 - val_accuracy: 0.9000\n",
            "Epoch 6/20\n",
            "32/32 [==============================] - 3s 85ms/step - loss: 0.3666 - accuracy: 0.8562 - val_loss: 0.3189 - val_accuracy: 0.9200\n",
            "Epoch 7/20\n",
            "32/32 [==============================] - 2s 61ms/step - loss: 0.3125 - accuracy: 0.9187 - val_loss: 0.2691 - val_accuracy: 0.9200\n",
            "Epoch 8/20\n",
            "32/32 [==============================] - 3s 86ms/step - loss: 0.2704 - accuracy: 0.9187 - val_loss: 0.2441 - val_accuracy: 1.0000\n",
            "Epoch 9/20\n",
            "32/32 [==============================] - 2s 76ms/step - loss: 0.2866 - accuracy: 0.9000 - val_loss: 0.3061 - val_accuracy: 0.8800\n",
            "Epoch 10/20\n",
            "32/32 [==============================] - 2s 59ms/step - loss: 0.2478 - accuracy: 0.9062 - val_loss: 0.2348 - val_accuracy: 0.9200\n",
            "Epoch 11/20\n",
            "32/32 [==============================] - 2s 60ms/step - loss: 0.2593 - accuracy: 0.9187 - val_loss: 0.3003 - val_accuracy: 0.8800\n",
            "Epoch 12/20\n",
            "32/32 [==============================] - 2s 59ms/step - loss: 0.2021 - accuracy: 0.9563 - val_loss: 0.2196 - val_accuracy: 0.9200\n",
            "Epoch 13/20\n",
            "32/32 [==============================] - 2s 59ms/step - loss: 0.2240 - accuracy: 0.9062 - val_loss: 0.2878 - val_accuracy: 0.9000\n",
            "Epoch 14/20\n",
            "32/32 [==============================] - 2s 73ms/step - loss: 0.2049 - accuracy: 0.9250 - val_loss: 0.2324 - val_accuracy: 0.9400\n",
            "Epoch 15/20\n",
            "32/32 [==============================] - 3s 87ms/step - loss: 0.1739 - accuracy: 0.9500 - val_loss: 0.2551 - val_accuracy: 0.9000\n",
            "Epoch 16/20\n",
            "32/32 [==============================] - 2s 61ms/step - loss: 0.1665 - accuracy: 0.9250 - val_loss: 0.2003 - val_accuracy: 0.9600\n",
            "Epoch 17/20\n",
            "32/32 [==============================] - 2s 65ms/step - loss: 0.1876 - accuracy: 0.9375 - val_loss: 0.2176 - val_accuracy: 0.9000\n",
            "Epoch 18/20\n",
            "32/32 [==============================] - 2s 65ms/step - loss: 0.1692 - accuracy: 0.9625 - val_loss: 0.1179 - val_accuracy: 0.9800\n",
            "Epoch 19/20\n",
            "32/32 [==============================] - 2s 60ms/step - loss: 0.1546 - accuracy: 0.9563 - val_loss: 0.1662 - val_accuracy: 0.9400\n",
            "Epoch 20/20\n",
            "32/32 [==============================] - 3s 80ms/step - loss: 0.1445 - accuracy: 0.9500 - val_loss: 0.2241 - val_accuracy: 0.8600\n"
          ]
        }
      ]
    },
    {
      "cell_type": "code",
      "source": [
        "# 96%까지 성능이 나왔다\n",
        "# 신뢰성을 얻귀 위해서 더 많은 데이터가 필요하다\n",
        "# 그러나, 빠른 시간내에 치매 진단 모델을 만들수 있었다"
      ],
      "metadata": {
        "id": "iSYZNRXlijxi"
      },
      "execution_count": 45,
      "outputs": []
    },
    {
      "cell_type": "code",
      "source": [
        "his.history.keys()\n",
        "# 훈련용과 검증용 데이터에 대한 손실값과 정확도가 로그로 기록되었다"
      ],
      "metadata": {
        "colab": {
          "base_uri": "https://localhost:8080/"
        },
        "id": "txjDhLGWi7bO",
        "outputId": "8a5cdc02-02d5-4415-8f38-49f6855faba4"
      },
      "execution_count": 104,
      "outputs": [
        {
          "output_type": "execute_result",
          "data": {
            "text/plain": [
              "dict_keys(['loss', 'accuracy', 'val_loss', 'val_accuracy'])"
            ]
          },
          "metadata": {},
          "execution_count": 104
        }
      ]
    },
    {
      "cell_type": "markdown",
      "source": [
        "##훈련 성과 시각화"
      ],
      "metadata": {
        "id": "lFadOXKOjbqR"
      }
    },
    {
      "cell_type": "code",
      "source": [
        "# 손실값 -> 학습이 계속되면 -> 0에 가까워 진다 -> 점점 정확해진다\n",
        "\n",
        "# 손실값 회득\n",
        "y_loss   = his.history['loss']\n",
        "y_v_loss = his.history['val_loss']\n",
        "\n",
        "# 차트 데코\n",
        "x = np.arange( len(y_loss) )\n",
        "plt.plot( x, y_loss,   marker='.', c='red',  label='train loss')\n",
        "plt.plot( x, y_v_loss, marker='.', c='blue', label='valid loss')\n",
        "\n",
        "# 차트 보인다\n",
        "plt.legend()\n",
        "plt.grid()\n",
        "plt.xlabel('epoch')\n",
        "plt.ylabel('loss')\n",
        "plt.show()\n",
        "# 정확도에 반비례하여서 손실값을 0에 가까와 지고 있다(수렴한다)\n",
        "# 좀더 많은 데이터로 더 많이 학습하면 더 좋은 성과가 예상된다."
      ],
      "metadata": {
        "colab": {
          "base_uri": "https://localhost:8080/",
          "height": 452
        },
        "id": "bacpAw0Sjfxm",
        "outputId": "b1fe9624-0fe2-463a-bb28-5a6a135db8da"
      },
      "execution_count": 107,
      "outputs": [
        {
          "output_type": "display_data",
          "data": {
            "text/plain": [
              "<Figure size 640x480 with 1 Axes>"
            ],
            "image/png": "[encoded data removed]"
          },
          "metadata": {}
        }
      ]
    },
    {
      "cell_type": "markdown",
      "source": [],
      "metadata": {
        "id": "UcFs-zXAVZYU"
      }
    }
  ]
}